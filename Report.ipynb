{
 "cells": [
  {
   "cell_type": "markdown",
   "metadata": {},
   "source": [
    "### Task\n",
    "Create a method for image matching with **no labeled data** for fashion products.\n",
    "\n",
    "There are two groups of photos, one group(targets) represents the different products, and another group(queries) are photos taken by employees or users. The task is to match the query photo with the corresponding photo in the target group.\n",
    "\n",
    "![Untitled (1).jpg][def]\n",
    "\n",
    "\n",
    "[def]: <Untitled (1).jpg>"
   ]
  },
  {
   "cell_type": "markdown",
   "metadata": {},
   "source": [
    "### Method\n",
    "\n",
    "The challenge is to construct a prediction model with no labeled data. \n",
    "There are some reported methods for labeled data [1-3]. Template matching[4] might not work here as well, as the query is potentially far from nearly duplicate of target photos[5].\n",
    "\n",
    "In this notebook, I am attempting apply transfer learning on a pre-trained image classifier for a features extractor. Then apply the nearest neighbor model. The distance metric is cosine similarity.\n",
    "However, as the original image classifier was not trained on fashion data, the out-of-the-box performance is not good, this notebook also attempts to improve its performance. \n",
    "\n",
    "![Untitled.jpg][def]\n",
    "\n",
    "The idea is to orthogonalize the target photos, as the embedded vector is usually ~1000(i.e. efficientnet features output is 1280). As long as the number of input photos is less than the dimension of the features vector, it's guaranteed to make all inputs vector orthogonal.\n",
    "\n",
    "(note: many potential variations exist, see discussion for details)\n",
    "\n",
    "\n",
    "[def]: <Untitled.jpg>"
   ]
  },
  {
   "cell_type": "markdown",
   "metadata": {},
   "source": [
    "### Code"
   ]
  },
  {
   "cell_type": "markdown",
   "metadata": {},
   "source": [
    "The following implementation is based on Python and Pytorch package.\n",
    "\n",
    "Features extractor is made by substituting the classifier layer in pre-trained models from torchvision.models(https://pytorch.org/vision/stable/models.html) with a Identity layer(forward call returns its input). The implementation of Identity layer can be found in some_code.py."
   ]
  },
  {
   "cell_type": "code",
   "execution_count": 215,
   "metadata": {},
   "outputs": [
    {
     "name": "stdout",
     "output_type": "stream",
     "text": [
      "Using cpu\n"
     ]
    }
   ],
   "source": [
    "# import all needed packages\n",
    "import some_code as K #some auxiliary code, due to readability I put in seperate file. A copy can also been found at the end\n",
    "from importlib import reload\n",
    "reload(K)\n",
    "\n",
    "import torch, torchvision\n",
    "from torch import Tensor, nn, optim\n",
    "from torchvision import transforms, models\n",
    "\n",
    "from PIL import Image\n",
    "from matplotlib import pyplot as plt\n",
    "from pathlib import Path\n",
    "import pandas as pd\n",
    "\n",
    "device = \"cuda\" if torch.cuda.is_available() else \"cpu\"\n",
    "print(f\"Using {device}\")\n",
    "\n",
    "# to fix the convextnet hash issue (ref: https://github.com/pytorch/vision/issues/7744)\n",
    "def get_state_dict(self, *args, **kwargs):\n",
    "    kwargs.pop(\"check_hash\")\n",
    "    return torch.hub.load_state_dict_from_url(self.url, *args, **kwargs)\n",
    "torchvision.models._api.WeightsEnum.get_state_dict = get_state_dict\n",
    "\n",
    "data_path = Path(\"data/UNIQOExample\")"
   ]
  },
  {
   "cell_type": "code",
   "execution_count": 208,
   "metadata": {},
   "outputs": [
    {
     "name": "stderr",
     "output_type": "stream",
     "text": [
      "c:\\Users\\kit97\\Documents\\GitHub\\PaddleLearing\\.conda\\lib\\site-packages\\torchvision\\models\\googlenet.py:47: FutureWarning: The default weight initialization of GoogleNet will be changed in future releases of torchvision. If you wish to keep the old behavior (which leads to long initialization times due to scipy/scipy#11299), please set init_weights=True.\n",
      "  warnings.warn(\n",
      "c:\\Users\\kit97\\Documents\\GitHub\\PaddleLearing\\.conda\\lib\\site-packages\\torchvision\\models\\inception.py:43: FutureWarning: The default weight initialization of inception_v3 will be changed in future releases of torchvision. If you wish to keep the old behavior (which leads to long initialization times due to scipy/scipy#11299), please set init_weights=True.\n",
      "  warnings.warn(\n"
     ]
    },
    {
     "data": {
      "text/html": [
       "<div>\n",
       "<style scoped>\n",
       "    .dataframe tbody tr th:only-of-type {\n",
       "        vertical-align: middle;\n",
       "    }\n",
       "\n",
       "    .dataframe tbody tr th {\n",
       "        vertical-align: top;\n",
       "    }\n",
       "\n",
       "    .dataframe thead th {\n",
       "        text-align: right;\n",
       "    }\n",
       "</style>\n",
       "<table border=\"1\" class=\"dataframe\">\n",
       "  <thead>\n",
       "    <tr style=\"text-align: right;\">\n",
       "      <th></th>\n",
       "      <th>DEFAULT</th>\n",
       "      <th>None</th>\n",
       "    </tr>\n",
       "  </thead>\n",
       "  <tbody>\n",
       "    <tr>\n",
       "      <th>AlexNet</th>\n",
       "      <td>0.483871</td>\n",
       "      <td>0.451613</td>\n",
       "    </tr>\n",
       "    <tr>\n",
       "      <th>DenseNet</th>\n",
       "      <td>0.322581</td>\n",
       "      <td>0.419355</td>\n",
       "    </tr>\n",
       "    <tr>\n",
       "      <th>ConvNeXt</th>\n",
       "      <td>0.419355</td>\n",
       "      <td>0.548387</td>\n",
       "    </tr>\n",
       "    <tr>\n",
       "      <th>EfficientNet</th>\n",
       "      <td>0.258065</td>\n",
       "      <td>0.548387</td>\n",
       "    </tr>\n",
       "    <tr>\n",
       "      <th>GoogLeNet</th>\n",
       "      <td>0.387097</td>\n",
       "      <td>0.516129</td>\n",
       "    </tr>\n",
       "    <tr>\n",
       "      <th>Inception3</th>\n",
       "      <td>0.354839</td>\n",
       "      <td>0.419355</td>\n",
       "    </tr>\n",
       "    <tr>\n",
       "      <th>MaxVit</th>\n",
       "      <td>0.096774</td>\n",
       "      <td>0.516129</td>\n",
       "    </tr>\n",
       "    <tr>\n",
       "      <th>MNASNet</th>\n",
       "      <td>0.451613</td>\n",
       "      <td>0.548387</td>\n",
       "    </tr>\n",
       "    <tr>\n",
       "      <th>MobileNetV3</th>\n",
       "      <td>0.322581</td>\n",
       "      <td>0.548387</td>\n",
       "    </tr>\n",
       "  </tbody>\n",
       "</table>\n",
       "</div>"
      ],
      "text/plain": [
       "               DEFAULT      None\n",
       "AlexNet       0.483871  0.451613\n",
       "DenseNet      0.322581  0.419355\n",
       "ConvNeXt      0.419355  0.548387\n",
       "EfficientNet  0.258065  0.548387\n",
       "GoogLeNet     0.387097  0.516129\n",
       "Inception3    0.354839  0.419355\n",
       "MaxVit        0.096774  0.516129\n",
       "MNASNet       0.451613  0.548387\n",
       "MobileNetV3   0.322581  0.548387"
      ]
     },
     "metadata": {},
     "output_type": "display_data"
    }
   ],
   "source": [
    "result, model_names = {\"DEFAULT\": [], None:[]}, []\n",
    "transforms_default = K.ToTensor_and_Resize(224)\n",
    "models_to_try = [\n",
    "    (models.alexnet, transforms_default), #min_size 63\n",
    "    (models.densenet121, transforms_default), #29\n",
    "    (models.convnext_tiny, transforms_default), #32\n",
    "    (models.efficientnet_b0, transforms_default), #1\n",
    "    (models.googlenet, transforms_default), #224\n",
    "    (models.inception_v3, K.ToTensor_and_Resize(299)), #299\n",
    "    (models.maxvit_t, transforms_default), #224\n",
    "    (models.mnasnet0_5, models.MNASNet0_5_Weights.IMAGENET1K_V1.transforms ), #1\n",
    "    (models.mobilenet_v3_small, transforms_default), #1\n",
    "] #tuple(model_constructor, transforms for inputs image)\n",
    "\n",
    "for model_constructor, transforms_needed in models_to_try:\n",
    "    for weight in [\"DEFAULT\", None]:\n",
    "\n",
    "        (inputs, input_files, labels), (match_targets, match_files, match_labels) = K.load_data(data_path, transforms_needed)\n",
    "        inputs, match_targets = inputs.to(device), match_targets.to(device)\n",
    "\n",
    "        # make model by architecture specified and turn off the classfier in the orginal model\n",
    "        model = K.FeaturesExtractor(model_constructor, weights = weight, frozen = True)\n",
    "        model.to(device)\n",
    "        \n",
    "        # featurize input and match samples, then normalize to 1(by row aka each sample)\n",
    "        outputs = model(inputs)\n",
    "        match_sapce = model(match_targets)\n",
    "        topk_error_rate, (cos_similaritys, top_classes) = K.error_rate(labels, match_labels, outputs, match_sapce, k = 5)\n",
    "        \n",
    "        result[weight].append(topk_error_rate)\n",
    "    model_names.append(model.name)\n",
    "\n",
    "print(pd.DataFrame(result, index=model_names))"
   ]
  },
  {
   "cell_type": "markdown",
   "metadata": {},
   "source": [
    "As shown although the models were trained on the ImageNet dataset, which contains mostly animals and daily objects, the FeaturesExtractor is still able to distall meaningful features.\n",
    "However, except for MaxVit model, all other models top-5 error rates were above 25%, which is quite bad.\n",
    "As the distance metric is the cosine similarity, if the target vectors are more evenly spaced, would probably result in better resolution.\n",
    "Thus we can use the sum of pairwise dot-products of target tensors as a loss function to train the FeaturesExtractor. By minimizing the sum of pairwise dot-product, the vectors are more orthogonal thus more distance more each other."
   ]
  },
  {
   "cell_type": "code",
   "execution_count": 227,
   "metadata": {},
   "outputs": [
    {
     "name": "stdout",
     "output_type": "stream",
     "text": [
      "AlexNet:\n",
      "iter 0 done iter 1 done iter 2 done iter 3 done iter 4 done iter 5 done iter 6 done iter 7 done iter 8 done iter 9 done iter 10 done iter 11 done iter 12 done iter 13 done iter 14 done \n",
      "AlexNet Done, inital topk error rate =  25.8%, best = 25.8%\n"
     ]
    },
    {
     "data": {
      "text/plain": [
       "<Axes: title={'center': 'AlexNet'}, xlabel='iter cycle', ylabel='top 5 error rate'>"
      ]
     },
     "execution_count": 227,
     "metadata": {},
     "output_type": "execute_result"
    },
    {
     "data": {
      "image/png": "[encoded data removed]",
      "text/plain": [
       "<Figure size 640x480 with 1 Axes>"
      ]
     },
     "metadata": {},
     "output_type": "display_data"
    }
   ],
   "source": [
    "(inputs, input_files, labels), (match_targets, match_files, match_labels) = K.load_data(data_path, models.AlexNet_Weights.IMAGENET1K_V1.transforms())\n",
    "inputs, match_targets = inputs.to(device), match_targets.to(device)\n",
    "model = K.FeaturesExtractor(models.alexnet, weights=\"DEFAULT\", frozen=False)\n",
    "model.to(device)\n",
    "print(f\"{model.name}:\")\n",
    "\n",
    "loss_tracking, error_rate_tracking = [], []\n",
    "with torch.no_grad():\n",
    "    model.eval()\n",
    "    topk_error_rate, _ = K.error_rate(labels, match_labels, model(inputs), model(match_targets), k = 5)\n",
    "    error_rate_tracking.append(topk_error_rate)\n",
    "\n",
    "optimizer = optim.Adam(model.parameters(), lr = 0.00005)\n",
    "criterion = K.PairwiseDotproducts() # sum of pairwaise dot-product as loss function\n",
    "\n",
    "for iter_index in range(15):\n",
    "    model.train()\n",
    "    match_sapce = model(match_targets)\n",
    "    loss = criterion(match_sapce)\n",
    "    optimizer.zero_grad()\n",
    "    loss.backward()\n",
    "    optimizer.step()\n",
    "    loss_tracking.append(loss.item())\n",
    "\n",
    "    with torch.no_grad():\n",
    "        model.eval()\n",
    "        topk_error_rate, _ = K.error_rate(labels, match_labels, model(inputs), model(match_targets), k = 5)\n",
    "        error_rate_tracking.append(topk_error_rate)\n",
    "    print(f\"iter {iter_index} done\", end=\" \")\n",
    "\n",
    "print(f\"\\n{model.name} Done, inital topk error rate = {error_rate_tracking[0]*100: .1f}%, best = {min(error_rate_tracking)*100 :.1f}%\")\n",
    "\n",
    "error_rate_tracking = pd.Series(error_rate_tracking)\n",
    "plt.close()\n",
    "plt.figure()\n",
    "error_rate_tracking.plot(title=model.name, xlabel=\"iter cycle\", ylabel=\"top 5 error rate\")"
   ]
  },
  {
   "cell_type": "markdown",
   "metadata": {},
   "source": [
    "With Alexnet as an example, by orthogonazing the matching matrix the error rate is decreased. Also, this behavior is not limited to Alexnet. The following code shows the result for 9 pre-trained models."
   ]
  },
  {
   "cell_type": "code",
   "execution_count": 209,
   "metadata": {},
   "outputs": [
    {
     "name": "stdout",
     "output_type": "stream",
     "text": [
      "AlexNet:\n",
      "\n",
      "AlexNet Done, inital topk error rate =  48.4%, best = 48.4%\n",
      "DenseNet:\n",
      "\n",
      "DenseNet Done, inital topk error rate =  32.3%, best = 22.6%\n",
      "ConvNeXt:\n",
      "\n",
      "ConvNeXt Done, inital topk error rate =  41.9%, best = 16.1%\n",
      "EfficientNet:\n",
      "\n",
      "EfficientNet Done, inital topk error rate =  25.8%, best = 25.8%\n",
      "GoogLeNet:\n",
      "\n",
      "GoogLeNet Done, inital topk error rate =  38.7%, best = 38.7%\n",
      "Inception3:\n",
      "\n",
      "Inception3 Done, inital topk error rate =  35.5%, best = 32.3%\n",
      "MaxVit:\n",
      "\n",
      "MaxVit Done, inital topk error rate =  9.7%, best = 9.7%\n",
      "MNASNet:\n",
      "\n",
      "MNASNet Done, inital topk error rate =  45.2%, best = 45.2%\n",
      "MobileNetV3:\n",
      "\n",
      "MobileNetV3 Done, inital topk error rate =  32.3%, best = 32.3%\n"
     ]
    },
    {
     "data": {
      "text/plain": [
       "array([[<Axes: >, <Axes: >, <Axes: >],\n",
       "       [<Axes: >, <Axes: >, <Axes: >],\n",
       "       [<Axes: >, <Axes: >, <Axes: >]], dtype=object)"
      ]
     },
     "execution_count": 209,
     "metadata": {},
     "output_type": "execute_result"
    },
    {
     "data": {
      "text/plain": [
       "<Figure size 640x480 with 0 Axes>"
      ]
     },
     "metadata": {},
     "output_type": "display_data"
    },
    {
     "data": {
      "image/png": "[encoded data removed]",
      "text/plain": [
       "<Figure size 640x480 with 9 Axes>"
      ]
     },
     "metadata": {},
     "output_type": "display_data"
    }
   ],
   "source": [
    "loss_tracking_all, error_rate_tracking_all = pd.DataFrame(), pd.DataFrame()\n",
    "for model_constructor, transforms_needed in models_to_try:\n",
    "\n",
    "    (inputs, input_files, labels), (match_targets, match_files, match_labels) = K.load_data(data_path, transforms_needed)\n",
    "    inputs, match_targets = inputs.to(device), match_targets.to(device)\n",
    "\n",
    "    model = K.FeaturesExtractor(model_constructor, weights=\"DEFAULT\", frozen=False)\n",
    "    model.to(device)\n",
    "    print(f\"{model.name}:\")\n",
    "\n",
    "    loss_tracking, error_rate_tracking = K.model_trainer(model, inputs, match_targets, labels, match_labels, \n",
    "                                                         iter_num = 15, k_in_topk = 5, learn_rate=0.00005) #refactor from above\n",
    "    print(f\"{model.name} Done, inital topk error rate = {error_rate_tracking[0]*100: .1f}%, best = {min(error_rate_tracking)*100 :.1f}%\\n\")\n",
    "    loss_tracking_all[model.name] = loss_tracking\n",
    "    error_rate_tracking_all[model.name] = error_rate_tracking\n",
    "\n",
    "if device == \"cuda\":\n",
    "    torch.cuda.empty_cache()\n",
    "plt.close()\n",
    "plt.figure()\n",
    "error_rate_tracking_all.plot(subplots = True, layout = (3,3))"
   ]
  },
  {
   "cell_type": "markdown",
   "metadata": {},
   "source": [
    "As shown above, the performance improvement is not only seen in AlexNet. DenseNet, ConvNeXt, EfficientNet, GoogLeNet also showed improvement in error rate after orthogonazation. With ConvNeXt preform the best after 4 training cycles. However this method does not work for all models, this possibly results from model architecture. See the discussion section."
   ]
  },
  {
   "cell_type": "markdown",
   "metadata": {},
   "source": [
    "## Results and Discussion\n"
   ]
  },
  {
   "cell_type": "markdown",
   "metadata": {},
   "source": [
    "### Is the improvemwnt a result of random walk?"
   ]
  },
  {
   "cell_type": "code",
   "execution_count": null,
   "metadata": {},
   "outputs": [],
   "source": [
    "loss_tracking_all, error_rate_tracking_all = pd.DataFrame(), pd.DataFrame()\n",
    "for model_constructor, transforms_needed in models_to_try:\n",
    "\n",
    "    (inputs, input_files, labels), (match_targets, match_files, match_labels) = K.load_data(data_path, transforms_needed)\n",
    "    inputs, match_targets = inputs.to(device), match_targets.to(device)\n",
    "\n",
    "    model = K.FeaturesExtractor(model_constructor, weights=None, frozen=False) # set to NO pretrain weight \n",
    "    model.to(device)\n",
    "    print(f\"{model.name}:\")\n",
    "\n",
    "    loss_tracking, error_rate_tracking = K.model_trainer(model, inputs, match_targets, labels, match_labels, \n",
    "                                                         iter_num = 50, k_in_topk = 5, learn_rate=0.00005) #refactor from above\n",
    "    print(f\"{model.name} Done, inital topk error rate = {error_rate_tracking[0]*100: .1f}%, best = {min(error_rate_tracking)*100 :.1f}%\\n\")\n",
    "    loss_tracking_all[model.name] = loss_tracking\n",
    "    error_rate_tracking_all[model.name] = error_rate_tracking\n",
    "\n",
    "if device == \"cuda\":\n",
    "    torch.cuda.empty_cache()\n",
    "plt.close()\n",
    "plt.figure()\n",
    "error_rate_tracking_all.plot(subplots = True, layout = (3,3))"
   ]
  },
  {
   "cell_type": "markdown",
   "metadata": {},
   "source": [
    "As shown above, For a randomly initialized model, this results in random-walk-like behavior.\n",
    "\n",
    "Repeat this experiment 50 times, we can do some statics inferrnece on it."
   ]
  },
  {
   "cell_type": "code",
   "execution_count": 216,
   "metadata": {},
   "outputs": [
    {
     "name": "stderr",
     "output_type": "stream",
     "text": [
      "c:\\Users\\kit97\\Documents\\GitHub\\PaddleLearing\\.conda\\lib\\site-packages\\torchvision\\models\\googlenet.py:47: FutureWarning: The default weight initialization of GoogleNet will be changed in future releases of torchvision. If you wish to keep the old behavior (which leads to long initialization times due to scipy/scipy#11299), please set init_weights=True.\n",
      "  warnings.warn(\n",
      "c:\\Users\\kit97\\Documents\\GitHub\\PaddleLearing\\.conda\\lib\\site-packages\\torchvision\\models\\inception.py:43: FutureWarning: The default weight initialization of inception_v3 will be changed in future releases of torchvision. If you wish to keep the old behavior (which leads to long initialization times due to scipy/scipy#11299), please set init_weights=True.\n",
      "  warnings.warn(\n"
     ]
    },
    {
     "name": "stdout",
     "output_type": "stream",
     "text": [
      "cycle 1 for AlexNetdone cycle 2 for AlexNetdone cycle 3 for AlexNetdone cycle 4 for AlexNetdone cycle 5 for AlexNetdone cycle 6 for AlexNetdone cycle 7 for AlexNetdone cycle 8 for AlexNetdone cycle 9 for AlexNetdone cycle 10 for AlexNetdone cycle 1 for AlexNetdone cycle 2 for AlexNetdone cycle 3 for AlexNetdone cycle 4 for AlexNetdone cycle 5 for AlexNetdone cycle 6 for AlexNetdone cycle 7 for AlexNetdone cycle 8 for AlexNetdone cycle 9 for AlexNetdone cycle 10 for AlexNetdone "
     ]
    },
    {
     "ename": "KeyboardInterrupt",
     "evalue": "",
     "output_type": "error",
     "traceback": [
      "\u001b[1;31m---------------------------------------------------------------------------\u001b[0m",
      "\u001b[1;31mKeyboardInterrupt\u001b[0m                         Traceback (most recent call last)",
      "\u001b[1;32mc:\\Users\\kit97\\Documents\\GitHub\\ImageMatching\\Demo.ipynb Cell 14\u001b[0m line \u001b[0;36m3\n\u001b[0;32m     <a href='vscode-notebook-cell:/c%3A/Users/kit97/Documents/GitHub/ImageMatching/Demo.ipynb#Y146sZmlsZQ%3D%3D?line=28'>29</a>\u001b[0m model \u001b[39m=\u001b[39m K\u001b[39m.\u001b[39mFeaturesExtractor(model_constructor, weights \u001b[39m=\u001b[39m weight, frozen\u001b[39m=\u001b[39m\u001b[39mFalse\u001b[39;00m)\n\u001b[0;32m     <a href='vscode-notebook-cell:/c%3A/Users/kit97/Documents/GitHub/ImageMatching/Demo.ipynb#Y146sZmlsZQ%3D%3D?line=29'>30</a>\u001b[0m model\u001b[39m.\u001b[39mto(device)\n\u001b[1;32m---> <a href='vscode-notebook-cell:/c%3A/Users/kit97/Documents/GitHub/ImageMatching/Demo.ipynb#Y146sZmlsZQ%3D%3D?line=31'>32</a>\u001b[0m _, error_rate_tracking \u001b[39m=\u001b[39m K\u001b[39m.\u001b[39;49mmodel_trainer(model, inputs, match_targets, labels, match_labels, \n\u001b[0;32m     <a href='vscode-notebook-cell:/c%3A/Users/kit97/Documents/GitHub/ImageMatching/Demo.ipynb#Y146sZmlsZQ%3D%3D?line=32'>33</a>\u001b[0m                                                     iter_num \u001b[39m=\u001b[39;49m \u001b[39m15\u001b[39;49m, k_in_topk \u001b[39m=\u001b[39;49m \u001b[39m5\u001b[39;49m, learn_rate\u001b[39m=\u001b[39;49m\u001b[39m0.00005\u001b[39;49m) \u001b[39m#refactor from above\u001b[39;00m\n\u001b[0;32m     <a href='vscode-notebook-cell:/c%3A/Users/kit97/Documents/GitHub/ImageMatching/Demo.ipynb#Y146sZmlsZQ%3D%3D?line=33'>34</a>\u001b[0m \u001b[39mprint\u001b[39m(\u001b[39mf\u001b[39m\u001b[39m\"\u001b[39m\u001b[39mcycle \u001b[39m\u001b[39m{\u001b[39;00miter_id\u001b[39m+\u001b[39m\u001b[39m1\u001b[39m\u001b[39m}\u001b[39;00m\u001b[39m for \u001b[39m\u001b[39m{\u001b[39;00mmodel\u001b[39m.\u001b[39mname\u001b[39m}\u001b[39;00m\u001b[39mdone\u001b[39m\u001b[39m\"\u001b[39m, end\u001b[39m=\u001b[39m\u001b[39m\"\u001b[39m\u001b[39m \u001b[39m\u001b[39m\"\u001b[39m)\n\u001b[0;32m     <a href='vscode-notebook-cell:/c%3A/Users/kit97/Documents/GitHub/ImageMatching/Demo.ipynb#Y146sZmlsZQ%3D%3D?line=35'>36</a>\u001b[0m record\u001b[39m.\u001b[39mappend(error_rate_tracking[\u001b[39m0\u001b[39m] \u001b[39m-\u001b[39m \u001b[39mmin\u001b[39m(error_rate_tracking))  \n",
      "File \u001b[1;32mc:\\Users\\kit97\\Documents\\GitHub\\ImageMatching\\some_code.py:289\u001b[0m, in \u001b[0;36mmodel_trainer\u001b[1;34m(model, inputs, match_targets, labels, match_labels, k_in_topk, iter_num, learn_rate, show_progress)\u001b[0m\n\u001b[0;32m    287\u001b[0m loss \u001b[39m=\u001b[39m criterion(match_sapce)\n\u001b[0;32m    288\u001b[0m optimizer\u001b[39m.\u001b[39mzero_grad()\n\u001b[1;32m--> 289\u001b[0m loss\u001b[39m.\u001b[39;49mbackward()\n\u001b[0;32m    290\u001b[0m optimizer\u001b[39m.\u001b[39mstep()\n\u001b[0;32m    291\u001b[0m loss_tracking\u001b[39m.\u001b[39mappend(loss\u001b[39m.\u001b[39mitem())\n",
      "File \u001b[1;32mc:\\Users\\kit97\\Documents\\GitHub\\PaddleLearing\\.conda\\lib\\site-packages\\torch\\_tensor.py:492\u001b[0m, in \u001b[0;36mTensor.backward\u001b[1;34m(self, gradient, retain_graph, create_graph, inputs)\u001b[0m\n\u001b[0;32m    482\u001b[0m \u001b[39mif\u001b[39;00m has_torch_function_unary(\u001b[39mself\u001b[39m):\n\u001b[0;32m    483\u001b[0m     \u001b[39mreturn\u001b[39;00m handle_torch_function(\n\u001b[0;32m    484\u001b[0m         Tensor\u001b[39m.\u001b[39mbackward,\n\u001b[0;32m    485\u001b[0m         (\u001b[39mself\u001b[39m,),\n\u001b[1;32m   (...)\u001b[0m\n\u001b[0;32m    490\u001b[0m         inputs\u001b[39m=\u001b[39minputs,\n\u001b[0;32m    491\u001b[0m     )\n\u001b[1;32m--> 492\u001b[0m torch\u001b[39m.\u001b[39;49mautograd\u001b[39m.\u001b[39;49mbackward(\n\u001b[0;32m    493\u001b[0m     \u001b[39mself\u001b[39;49m, gradient, retain_graph, create_graph, inputs\u001b[39m=\u001b[39;49minputs\n\u001b[0;32m    494\u001b[0m )\n",
      "File \u001b[1;32mc:\\Users\\kit97\\Documents\\GitHub\\PaddleLearing\\.conda\\lib\\site-packages\\torch\\autograd\\__init__.py:251\u001b[0m, in \u001b[0;36mbackward\u001b[1;34m(tensors, grad_tensors, retain_graph, create_graph, grad_variables, inputs)\u001b[0m\n\u001b[0;32m    246\u001b[0m     retain_graph \u001b[39m=\u001b[39m create_graph\n\u001b[0;32m    248\u001b[0m \u001b[39m# The reason we repeat the same comment below is that\u001b[39;00m\n\u001b[0;32m    249\u001b[0m \u001b[39m# some Python versions print out the first line of a multi-line function\u001b[39;00m\n\u001b[0;32m    250\u001b[0m \u001b[39m# calls in the traceback and some print out the last line\u001b[39;00m\n\u001b[1;32m--> 251\u001b[0m Variable\u001b[39m.\u001b[39;49m_execution_engine\u001b[39m.\u001b[39;49mrun_backward(  \u001b[39m# Calls into the C++ engine to run the backward pass\u001b[39;49;00m\n\u001b[0;32m    252\u001b[0m     tensors,\n\u001b[0;32m    253\u001b[0m     grad_tensors_,\n\u001b[0;32m    254\u001b[0m     retain_graph,\n\u001b[0;32m    255\u001b[0m     create_graph,\n\u001b[0;32m    256\u001b[0m     inputs,\n\u001b[0;32m    257\u001b[0m     allow_unreachable\u001b[39m=\u001b[39;49m\u001b[39mTrue\u001b[39;49;00m,\n\u001b[0;32m    258\u001b[0m     accumulate_grad\u001b[39m=\u001b[39;49m\u001b[39mTrue\u001b[39;49;00m,\n\u001b[0;32m    259\u001b[0m )\n",
      "\u001b[1;31mKeyboardInterrupt\u001b[0m: "
     ]
    }
   ],
   "source": [
    "# this cell take VERY LONG time to run!! (~ 75min in colab with T4 GPU)\n",
    "from itertools import product\n",
    "\n",
    "drawdown_records = {\"DEFAULT\": pd.DataFrame(), None: pd.DataFrame()}\n",
    "\n",
    "for (model_constructor, transforms_needed), weight in product(models_to_try, [\"DEFAULT\", None]):\n",
    "\n",
    "    (inputs, input_files, labels), (match_targets, match_files, match_labels) = K.load_data(data_path, transforms_needed)\n",
    "    inputs, match_targets = inputs.to(device), match_targets.to(device)\n",
    "    \n",
    "    record = []\n",
    "    for iter_id in range(50):\n",
    "        model = K.FeaturesExtractor(model_constructor, weights = weight, frozen=False)\n",
    "        model.to(device)\n",
    "\n",
    "        _, error_rate_tracking = K.model_trainer(model, inputs, match_targets, labels, match_labels, \n",
    "                                                            iter_num = 15, k_in_topk = 5, learn_rate=0.00005) #refactor from above\n",
    "        print(f\"cycle {iter_id+1} for {model.name}done\", end=\" \")\n",
    "        \n",
    "        record.append(error_rate_tracking[0] - min(error_rate_tracking))  \n",
    "    drawdown_records[weight][model.name] = record      \n",
    "\n",
    "if device == \"cuda\":\n",
    "    torch.cuda.empty_cache()"
   ]
  },
  {
   "cell_type": "code",
   "execution_count": null,
   "metadata": {},
   "outputs": [],
   "source": [
    "avg_improvment = pd.concat([drawdown_records[None].mean(), drawdown_records[\"DEFAULT\"].mean()], axis = 1)\n",
    "avg_improvment = avg_improvment.T.rename(index = {0: \"random\", 1: \"pretrain\"})\n",
    "print(avg_improvment)"
   ]
  },
  {
   "cell_type": "markdown",
   "metadata": {},
   "source": [
    "The improvement (measured in init_error_rate - best_error_rate) of pre-trained model is a few times bigger than improvement of the random model. Especially for AlexNet, ConvNeXt both showed significant improvements.\n",
    "\n",
    "Assuming the improvement of models are normally distributed, with null hypothesis of (improvement of randomly initialized models have and same mean as improvement of pre-trained models). The result of Welch's t-test for unequal variances is shown below:"
   ]
  },
  {
   "cell_type": "code",
   "execution_count": null,
   "metadata": {},
   "outputs": [],
   "source": [
    "import scipy.stats as stats\n",
    "for col in drawdown_records[\"DEFAULT\"]:\n",
    "    result = stats.ttest_ind(drawdown_records[\"DEFAULT\"][col], drawdown_records[None][col], equal_var=False)\n",
    "    print(f\" the p-value for {col}: \\tpython{result.pvalue: .3e}\")"
   ]
  },
  {
   "cell_type": "markdown",
   "metadata": {},
   "source": [
    "The p-value is well below 0.05, so it's very unlikely a result of a random event.\n",
    "The normal probability plots for the randomly initialized models are shown below:"
   ]
  },
  {
   "cell_type": "code",
   "execution_count": null,
   "metadata": {},
   "outputs": [],
   "source": [
    "plt.figure(figsize=(10, 10))\n",
    "for i, col in enumerate(drawdown_records[None], 1):\n",
    "    plt.subplot(3,3,i)\n",
    "    stats.probplot(stats.zscore(drawdown_records[None][col]), dist=\"norm\", plot=plt)\n",
    "    plt.title(col)\n",
    "plt.tight_layout()\n",
    "plt.show()"
   ]
  },
  {
   "cell_type": "markdown",
   "metadata": {},
   "source": [
    "Although due to the small size of the data set, there are steps in data, the general shape still follows a normal distribution, with exceptions of EfficientNet, GoogLeNet, MNASNet, and MobileNetV3.\n",
    "\n",
    "The underlying distribution of improvement measurement is very unlikely to be the true normal distribution, however, this should able to give a decent estimation of the validity of this method."
   ]
  },
  {
   "cell_type": "markdown",
   "metadata": {},
   "source": [
    "### Why does this method only work for some models?\n",
    "\n",
    "When we take a closer look at the result, the behaviors of models in training can be divided into three classes.\n",
    "1. Steady decrease at first. (AlexNet, ConvNeXt, DenseNet)\n",
    "2. Steady increase first. (MaxVit, MNASNet)\n",
    "3. No clear trend. (EfficientNet, GoogLeNet, Inception3, MobileNetV3)\n",
    "\n",
    "For AlexNet[11] and ConvNeXt[12], are the only two models with pure convolution layers as building blocks.\n",
    "DenseNet[13] contains densely connected convolutional modules.\n",
    "GoogLeNet[14] and Inception3[15]'s core budling block is Inception module. \n",
    "EfficientNet[16], MNASNet[17], MobileNetV3[18] all contain residual modules or inverted residual modules.\n",
    "MaxVit[19] is transformer architecture.\n",
    "\n",
    "This implies that this method may only work for pure convolutional neural networks. The mechanism behind this is yet to be further studied."
   ]
  },
  {
   "cell_type": "markdown",
   "metadata": {},
   "source": [
    "### Why increased training result in poor accuracy?\n",
    "\n",
    "One possibility is that after some iter the featurizer starts to \"forget\" what it learned from the training dataset(ImageNet), instead trying to minimize the dot-products, which itself will not improve quality of feature extraction."
   ]
  },
  {
   "cell_type": "markdown",
   "metadata": {},
   "source": [
    "### This method also work for differnet k"
   ]
  },
  {
   "cell_type": "code",
   "execution_count": null,
   "metadata": {},
   "outputs": [],
   "source": [
    "(inputs, input_files, labels), (match_targets, match_files, match_labels) = K.load_data(data_path, transforms_default)\n",
    "inputs, match_targets = inputs.to(device), match_targets.to(device)\n",
    "\n",
    "error_rate_tracking_diff_k = pd.DataFrame()\n",
    "\n",
    "for k_in_topk in range(1,6):\n",
    "\n",
    "    model = K.FeaturesExtractor(models.alexnet, weights=\"DEFAULT\", frozen=False)\n",
    "    model.to(device)\n",
    "    print(f\"{model.name}:\")\n",
    "\n",
    "    _, error_rate_tracking = K.model_trainer(model, inputs, match_targets, labels, match_labels, \n",
    "                                                         iter_num = 15, k_in_topk = k_in_topk, learn_rate=0.00005) #refactor from above\n",
    "    print(f\"{model.name} Done, inital topk error rate = {error_rate_tracking[0]*100: .1f}%, best = {min(error_rate_tracking)*100 :.1f}%\\n\")\n",
    "    error_rate_tracking_diff_k[f\"k = {k_in_topk}\"] = error_rate_tracking\n",
    "\n",
    "if device == \"cuda\":\n",
    "    torch.cuda.empty_cache()\n",
    "plt.close()\n",
    "plt.figure()\n",
    "plt.tight_layout()\n",
    "error_rate_tracking_diff_k.plot(subplots = True, layout = (5,1))"
   ]
  },
  {
   "cell_type": "markdown",
   "metadata": {},
   "source": [
    "### Future work on\n",
    "1. if labeled data is available, try SIAMESE CNN\n",
    "2. Use other kinds of metrics to determin the similarity, i.e. L2-norm, L1-norm for non-unity vectors\n",
    "3. Other kinds of feather extraction methods, such as SIFT, SURF, BRIEF, BRISK, and FAST."
   ]
  },
  {
   "cell_type": "markdown",
   "metadata": {},
   "source": [
    "## Method and Impleatation"
   ]
  },
  {
   "cell_type": "markdown",
   "metadata": {},
   "source": [
    "### Data\n",
    "\n",
    "Due to the lack of such pairing datasets in the fashion domain. Most available fashion datasets[8-10] are image labeled with descriptions or classes, rather than a pairing datasets. The available image pair datasets are designed for facical reconigtion[6], and semantic similarity[7].\n",
    "\n",
    "The data used for this notebook is collected by myself on an online store of a big fashion retailer. Thus the dataset is relatively small(17 target photos and 30 querys photos), which might diminish the viability of this method. \n",
    "\n",
    "Thus one further improvement of this work is to collect more data, possibly by web crawler. Also wider range of data, such as including other stores and other sources, such as photos in the comment section on e-commerce. So that bias in the dataset is eliminated. \n",
    "\n",
    "However, due to the lack of suitable datasets, skills for making web crawler, and resources to collect more data at this moment, this potentially biased dataset is used for preliminary results."
   ]
  },
  {
   "cell_type": "markdown",
   "metadata": {},
   "source": [
    "### Code\n",
    "\n",
    "All code is written in Python with Pytorch package. All code and images used are available on Github(https://github.com/kit971103/ImageMatching)."
   ]
  },
  {
   "cell_type": "markdown",
   "metadata": {},
   "source": [
    "## Reference\n",
    "1-3 are works done on Similarity model with labeled data\\\n",
    "4-5 are Template Matching\n",
    "\n",
    "\n",
    "1. Chatterjee, Moitreya; Luo, Yunan. Course material from University of Illinois, \"Similarity Learning with (or without) Convolutional Neural Network\" (PDF). https://slazebni.cs.illinois.edu/spring17/lec09_similarity.pdf\n",
    "2. \n",
    "3. \n",
    "4. OpenCV Template Matching, https://docs.opencv.org/2.4.13.7/doc/tutorials/imgproc/histograms/template_matching/template_matching.html\n",
    "5. IMAGE MATCH GITHUB, https://github.com/rhsimplex/image-match\n",
    "6. Labeled Faces in the Wild, https://vis-www.cs.umass.edu/lfw/index.html\n",
    "7. Images Alike, semantic similar image pair, https://www.kaggle.com/datasets/alincijov/images-alike\n",
    "8. Fashion Product Images Dataset, https://www.kaggle.com/datasets/paramaggarwal/fashion-product-images-dataset\n",
    "9. Adidas Fashion Retail Products Dataset, https://www.kaggle.com/datasets/thedevastator/adidas-fashion-retail-products-dataset-9300-prod\n",
    "10. Clothing dataset ,https://www.kaggle.com/datasets/agrigorev/clothing-dataset-full\n",
    "11. \"One weird trick for parallelizing convolutional neural networks\", https://arxiv.org/pdf/1404.5997.pdf\n",
    "12. \"A ConvNet for the 2020s\",https://arxiv.org/pdf/2201.03545.pdf\n",
    "13. \"Densely Connected Convolutional Networks\", https://arxiv.org/pdf/1608.06993.pdf\n",
    "14. \"Going deeper with convolutions\", https://arxiv.org/pdf/1409.4842.pdf\n",
    "15. \"Rethinking the Inception Architecture for Computer Vision\", https://arxiv.org/pdf/1512.00567.pdf\n",
    "16. \"EfficientNet: Rethinking Model Scaling for Convolutional Neural Networks\", https://arxiv.org/pdf/1905.11946.pdf\n",
    "17. \"MnasNet: Platform-Aware Neural Architecture Search for Mobile\", https://arxiv.org/pdf/1807.11626.pdf\n",
    "18. \"MobileNetV2: Inverted Residuals and Linear Bottlenecks\", https://arxiv.org/pdf/1801.04381.pdf\n",
    "19. \"MaxViT: Multi-Axis Vision Transformer\", https://arxiv.org/pdf/2204.01697.pdf"
   ]
  },
  {
   "cell_type": "markdown",
   "metadata": {},
   "source": [
    "### Real Motivation\n",
    "On a road trip with my friends, one of my friends who owns a fashion business needed to work in a hotel room, while watching he work, I found that most of his work was pretty mechanical. There are two major tasks:\n",
    "1. Product matching, match the product photo taken by the employee to a sample photo from the supplier for the internal inventory system.\n",
    "2. Table recognition, manual input sale data from photo containing a table of daily sale record\n",
    "\n",
    "\"it should be an easy task for AI\" I thought it should be easy to build a tool with existing resources. \\\n",
    "I was wrong. VERY WRONG\\\n",
    "At least not easy for me who knew nothing about programming at that time.\n",
    "\n",
    "For the table recognition task, I tried a few online tools and most of them are horrible at identifying hand-written tables. Then I switched to using paddlepaddle(an ML package by China internet giant  BAIDU)"
   ]
  }
 ],
 "metadata": {
  "kernelspec": {
   "display_name": "Python 3",
   "language": "python",
   "name": "python3"
  },
  "language_info": {
   "codemirror_mode": {
    "name": "ipython",
    "version": 3
   },
   "file_extension": ".py",
   "mimetype": "text/x-python",
   "name": "python",
   "nbconvert_exporter": "python",
   "pygments_lexer": "ipython3",
   "version": "3.10.13"
  }
 },
 "nbformat": 4,
 "nbformat_minor": 2
}
